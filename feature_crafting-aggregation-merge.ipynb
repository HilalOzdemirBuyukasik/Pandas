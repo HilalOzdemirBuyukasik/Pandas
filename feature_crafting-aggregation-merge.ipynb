{
 "cells": [
  {
   "cell_type": "markdown",
   "id": "d9113071-4b8a-4cf2-a7f0-bc772f0f1c7e",
   "metadata": {},
   "source": [
    "#### Pandas – Feature Crafting, Aggregation, and Merge"
   ]
  },
  {
   "cell_type": "markdown",
   "id": "80af0ffa-1054-4af4-9e61-c34ab7538598",
   "metadata": {},
   "source": [
    "<i> We will enhance our dataset by creating new features, aggregating data, and performing merging operations.</i>"
   ]
  },
  {
   "cell_type": "code",
   "execution_count": 1,
   "id": "c1ce4ec4-6cbe-42ec-b45d-8a0eea37e521",
   "metadata": {},
   "outputs": [],
   "source": [
    "import pandas as pd"
   ]
  },
  {
   "cell_type": "code",
   "execution_count": 3,
   "id": "5e442aac-47d7-499c-9d0d-a6d5b094e817",
   "metadata": {},
   "outputs": [
    {
     "data": {
      "text/html": [
       "<div>\n",
       "<style scoped>\n",
       "    .dataframe tbody tr th:only-of-type {\n",
       "        vertical-align: middle;\n",
       "    }\n",
       "\n",
       "    .dataframe tbody tr th {\n",
       "        vertical-align: top;\n",
       "    }\n",
       "\n",
       "    .dataframe thead th {\n",
       "        text-align: right;\n",
       "    }\n",
       "</style>\n",
       "<table border=\"1\" class=\"dataframe\">\n",
       "  <thead>\n",
       "    <tr style=\"text-align: right;\">\n",
       "      <th></th>\n",
       "      <th>video_id</th>\n",
       "      <th>channel_title</th>\n",
       "      <th>tags</th>\n",
       "      <th>likes</th>\n",
       "      <th>dislikes</th>\n",
       "    </tr>\n",
       "  </thead>\n",
       "  <tbody>\n",
       "    <tr>\n",
       "      <th>0</th>\n",
       "      <td>1</td>\n",
       "      <td>TechTalks</td>\n",
       "      <td>AI|ML|Data</td>\n",
       "      <td>100</td>\n",
       "      <td>10</td>\n",
       "    </tr>\n",
       "    <tr>\n",
       "      <th>1</th>\n",
       "      <td>2</td>\n",
       "      <td>Foodies</td>\n",
       "      <td>Recipe|Dessert</td>\n",
       "      <td>250</td>\n",
       "      <td>50</td>\n",
       "    </tr>\n",
       "    <tr>\n",
       "      <th>2</th>\n",
       "      <td>3</td>\n",
       "      <td>TechTalks</td>\n",
       "      <td>Python|Code|Pandas</td>\n",
       "      <td>300</td>\n",
       "      <td>20</td>\n",
       "    </tr>\n",
       "    <tr>\n",
       "      <th>3</th>\n",
       "      <td>4</td>\n",
       "      <td>TravelNow</td>\n",
       "      <td>Vlog|Europe</td>\n",
       "      <td>150</td>\n",
       "      <td>10</td>\n",
       "    </tr>\n",
       "  </tbody>\n",
       "</table>\n",
       "</div>"
      ],
      "text/plain": [
       "   video_id channel_title                tags  likes  dislikes\n",
       "0         1     TechTalks          AI|ML|Data    100        10\n",
       "1         2       Foodies      Recipe|Dessert    250        50\n",
       "2         3     TechTalks  Python|Code|Pandas    300        20\n",
       "3         4     TravelNow         Vlog|Europe    150        10"
      ]
     },
     "execution_count": 3,
     "metadata": {},
     "output_type": "execute_result"
    }
   ],
   "source": [
    "# Sample YouTube-like Dataset\n",
    "\n",
    "df = pd.DataFrame({\n",
    "    'video_id': [1, 2, 3, 4],\n",
    "    'channel_title': ['TechTalks', 'Foodies', 'TechTalks', 'TravelNow'],\n",
    "    'tags': ['AI|ML|Data', 'Recipe|Dessert', 'Python|Code|Pandas', 'Vlog|Europe'],\n",
    "    'likes': [100, 250, 300, 150],\n",
    "    'dislikes': [10, 50, 20, 10]\n",
    "})\n",
    "df"
   ]
  },
  {
   "cell_type": "markdown",
   "id": "6ca096d1-1709-4a31-9e1c-1f41c919734b",
   "metadata": {},
   "source": [
    "##### Feature Crafting – Tag Count - Create a new column showing the number of tags used in each video."
   ]
  },
  {
   "cell_type": "code",
   "execution_count": 4,
   "id": "7156add4-ef7b-4156-ad5d-e66c4149647a",
   "metadata": {},
   "outputs": [
    {
     "data": {
      "text/html": [
       "<div>\n",
       "<style scoped>\n",
       "    .dataframe tbody tr th:only-of-type {\n",
       "        vertical-align: middle;\n",
       "    }\n",
       "\n",
       "    .dataframe tbody tr th {\n",
       "        vertical-align: top;\n",
       "    }\n",
       "\n",
       "    .dataframe thead th {\n",
       "        text-align: right;\n",
       "    }\n",
       "</style>\n",
       "<table border=\"1\" class=\"dataframe\">\n",
       "  <thead>\n",
       "    <tr style=\"text-align: right;\">\n",
       "      <th></th>\n",
       "      <th>video_id</th>\n",
       "      <th>tags</th>\n",
       "      <th>tag_count</th>\n",
       "    </tr>\n",
       "  </thead>\n",
       "  <tbody>\n",
       "    <tr>\n",
       "      <th>0</th>\n",
       "      <td>1</td>\n",
       "      <td>AI|ML|Data</td>\n",
       "      <td>3</td>\n",
       "    </tr>\n",
       "    <tr>\n",
       "      <th>1</th>\n",
       "      <td>2</td>\n",
       "      <td>Recipe|Dessert</td>\n",
       "      <td>2</td>\n",
       "    </tr>\n",
       "    <tr>\n",
       "      <th>2</th>\n",
       "      <td>3</td>\n",
       "      <td>Python|Code|Pandas</td>\n",
       "      <td>3</td>\n",
       "    </tr>\n",
       "    <tr>\n",
       "      <th>3</th>\n",
       "      <td>4</td>\n",
       "      <td>Vlog|Europe</td>\n",
       "      <td>2</td>\n",
       "    </tr>\n",
       "  </tbody>\n",
       "</table>\n",
       "</div>"
      ],
      "text/plain": [
       "   video_id                tags  tag_count\n",
       "0         1          AI|ML|Data          3\n",
       "1         2      Recipe|Dessert          2\n",
       "2         3  Python|Code|Pandas          3\n",
       "3         4         Vlog|Europe          2"
      ]
     },
     "execution_count": 4,
     "metadata": {},
     "output_type": "execute_result"
    }
   ],
   "source": [
    "def calculate_tag_count(tags: str) -> int:\n",
    "    return len(tags.split('|'))\n",
    "\n",
    "df['tag_count'] = df['tags'].apply(calculate_tag_count)\n",
    "df[['video_id', 'tags', 'tag_count']]"
   ]
  },
  {
   "cell_type": "markdown",
   "id": "4c7cabf2-5687-4fe3-b040-5e29ce6731f5",
   "metadata": {},
   "source": [
    "##### Feature Crafting – Like Ratio (likes / (likes + dislikes))"
   ]
  },
  {
   "cell_type": "code",
   "execution_count": 8,
   "id": "87761bef-4bf9-4893-bb66-3f7a118708c5",
   "metadata": {},
   "outputs": [
    {
     "data": {
      "text/html": [
       "<div>\n",
       "<style scoped>\n",
       "    .dataframe tbody tr th:only-of-type {\n",
       "        vertical-align: middle;\n",
       "    }\n",
       "\n",
       "    .dataframe tbody tr th {\n",
       "        vertical-align: top;\n",
       "    }\n",
       "\n",
       "    .dataframe thead th {\n",
       "        text-align: right;\n",
       "    }\n",
       "</style>\n",
       "<table border=\"1\" class=\"dataframe\">\n",
       "  <thead>\n",
       "    <tr style=\"text-align: right;\">\n",
       "      <th></th>\n",
       "      <th>likes</th>\n",
       "      <th>dislikes</th>\n",
       "      <th>like_avg</th>\n",
       "    </tr>\n",
       "  </thead>\n",
       "  <tbody>\n",
       "    <tr>\n",
       "      <th>0</th>\n",
       "      <td>100</td>\n",
       "      <td>10</td>\n",
       "      <td>0.909091</td>\n",
       "    </tr>\n",
       "    <tr>\n",
       "      <th>1</th>\n",
       "      <td>250</td>\n",
       "      <td>50</td>\n",
       "      <td>0.833333</td>\n",
       "    </tr>\n",
       "    <tr>\n",
       "      <th>2</th>\n",
       "      <td>300</td>\n",
       "      <td>20</td>\n",
       "      <td>0.937500</td>\n",
       "    </tr>\n",
       "    <tr>\n",
       "      <th>3</th>\n",
       "      <td>150</td>\n",
       "      <td>10</td>\n",
       "      <td>0.937500</td>\n",
       "    </tr>\n",
       "  </tbody>\n",
       "</table>\n",
       "</div>"
      ],
      "text/plain": [
       "   likes  dislikes  like_avg\n",
       "0    100        10  0.909091\n",
       "1    250        50  0.833333\n",
       "2    300        20  0.937500\n",
       "3    150        10  0.937500"
      ]
     },
     "execution_count": 8,
     "metadata": {},
     "output_type": "execute_result"
    }
   ],
   "source": [
    "def like_dislike_avg(data_set: pd.DataFrame) -> list:\n",
    "    like_list = list(data_set['likes'])\n",
    "    dislike_list = list(data_set['dislikes'])\n",
    "    combine_list = list(zip(like_list, dislike_list))\n",
    "    avg_list = []\n",
    "\n",
    "    for like, dislike in combine_list:\n",
    "        if like + dislike == 0:\n",
    "            avg_list.append(0)\n",
    "        else:\n",
    "            avg_list.append(like / (like + dislike))\n",
    "    return avg_list\n",
    "\n",
    "df['like_avg'] = like_dislike_avg(df)\n",
    "df[['likes', 'dislikes', 'like_avg']]\n"
   ]
  },
  {
   "cell_type": "markdown",
   "id": "ae140f08-a448-4a29-895f-2755778695e3",
   "metadata": {},
   "source": [
    "##### Aggregation – Total Tags Used by Each Channel"
   ]
  },
  {
   "cell_type": "code",
   "execution_count": 9,
   "id": "cf53fcf3-ed20-4674-b856-40c86ab73033",
   "metadata": {},
   "outputs": [
    {
     "data": {
      "text/html": [
       "<div>\n",
       "<style scoped>\n",
       "    .dataframe tbody tr th:only-of-type {\n",
       "        vertical-align: middle;\n",
       "    }\n",
       "\n",
       "    .dataframe tbody tr th {\n",
       "        vertical-align: top;\n",
       "    }\n",
       "\n",
       "    .dataframe thead th {\n",
       "        text-align: right;\n",
       "    }\n",
       "</style>\n",
       "<table border=\"1\" class=\"dataframe\">\n",
       "  <thead>\n",
       "    <tr style=\"text-align: right;\">\n",
       "      <th></th>\n",
       "      <th>tag_count</th>\n",
       "    </tr>\n",
       "    <tr>\n",
       "      <th>channel_title</th>\n",
       "      <th></th>\n",
       "    </tr>\n",
       "  </thead>\n",
       "  <tbody>\n",
       "    <tr>\n",
       "      <th>TechTalks</th>\n",
       "      <td>6</td>\n",
       "    </tr>\n",
       "    <tr>\n",
       "      <th>Foodies</th>\n",
       "      <td>2</td>\n",
       "    </tr>\n",
       "    <tr>\n",
       "      <th>TravelNow</th>\n",
       "      <td>2</td>\n",
       "    </tr>\n",
       "  </tbody>\n",
       "</table>\n",
       "</div>"
      ],
      "text/plain": [
       "               tag_count\n",
       "channel_title           \n",
       "TechTalks              6\n",
       "Foodies                2\n",
       "TravelNow              2"
      ]
     },
     "execution_count": 9,
     "metadata": {},
     "output_type": "execute_result"
    }
   ],
   "source": [
    "(\n",
    "    df.groupby('channel_title')\n",
    "    .agg({'tag_count': 'sum'})\n",
    "    .sort_values(by='tag_count', ascending=False)\n",
    ")"
   ]
  },
  {
   "cell_type": "markdown",
   "id": "7b9bb4c1-10ab-4bbf-b10e-4cc9c0b8ed4e",
   "metadata": {},
   "source": [
    "##### Merge Example – Customers and Orders"
   ]
  },
  {
   "cell_type": "code",
   "execution_count": 10,
   "id": "6f73d51f-901a-48e0-b237-4d5ed111d648",
   "metadata": {},
   "outputs": [],
   "source": [
    "# Sample DataFrames\n",
    "df_customers = pd.DataFrame({\n",
    "    'customer_id': [1, 2, 3],\n",
    "    'customer_name': ['Alice', 'Bob', 'Charlie']\n",
    "})\n",
    "\n",
    "df_orders = pd.DataFrame({\n",
    "    'order_id': [101, 102, 103],\n",
    "    'customer_id': [1, 2, 1],\n",
    "    'product': ['Keyboard', 'Mouse', 'Monitor']\n",
    "})"
   ]
  },
  {
   "cell_type": "code",
   "execution_count": 11,
   "id": "ccd49e0a-033a-48c9-bfa9-35d08c575e66",
   "metadata": {},
   "outputs": [
    {
     "data": {
      "text/html": [
       "<div>\n",
       "<style scoped>\n",
       "    .dataframe tbody tr th:only-of-type {\n",
       "        vertical-align: middle;\n",
       "    }\n",
       "\n",
       "    .dataframe tbody tr th {\n",
       "        vertical-align: top;\n",
       "    }\n",
       "\n",
       "    .dataframe thead th {\n",
       "        text-align: right;\n",
       "    }\n",
       "</style>\n",
       "<table border=\"1\" class=\"dataframe\">\n",
       "  <thead>\n",
       "    <tr style=\"text-align: right;\">\n",
       "      <th></th>\n",
       "      <th>customer_id</th>\n",
       "      <th>customer_name</th>\n",
       "      <th>order_id</th>\n",
       "      <th>product</th>\n",
       "    </tr>\n",
       "  </thead>\n",
       "  <tbody>\n",
       "    <tr>\n",
       "      <th>0</th>\n",
       "      <td>1</td>\n",
       "      <td>Alice</td>\n",
       "      <td>101</td>\n",
       "      <td>Keyboard</td>\n",
       "    </tr>\n",
       "    <tr>\n",
       "      <th>1</th>\n",
       "      <td>1</td>\n",
       "      <td>Alice</td>\n",
       "      <td>103</td>\n",
       "      <td>Monitor</td>\n",
       "    </tr>\n",
       "    <tr>\n",
       "      <th>2</th>\n",
       "      <td>2</td>\n",
       "      <td>Bob</td>\n",
       "      <td>102</td>\n",
       "      <td>Mouse</td>\n",
       "    </tr>\n",
       "  </tbody>\n",
       "</table>\n",
       "</div>"
      ],
      "text/plain": [
       "   customer_id customer_name  order_id   product\n",
       "0            1         Alice       101  Keyboard\n",
       "1            1         Alice       103   Monitor\n",
       "2            2           Bob       102     Mouse"
      ]
     },
     "execution_count": 11,
     "metadata": {},
     "output_type": "execute_result"
    }
   ],
   "source": [
    "merged_df = pd.merge(\n",
    "    left=df_customers,\n",
    "    right=df_orders,\n",
    "    on='customer_id',\n",
    "    how='inner'\n",
    ")\n",
    "\n",
    "merged_df"
   ]
  },
  {
   "cell_type": "markdown",
   "id": "b6fe9558-f0b2-4b29-aa6e-c8aeeb321ba3",
   "metadata": {},
   "source": [
    "#### Video Performance Analysis"
   ]
  },
  {
   "cell_type": "code",
   "execution_count": 16,
   "id": "f5663ed9-26a3-4d83-b6df-f9da22b22b2a",
   "metadata": {},
   "outputs": [],
   "source": [
    "#Sample Datasets\n",
    "# Video metadata\n",
    "df_videos = pd.DataFrame({\n",
    "    'video_id': [101, 102, 103, 104],\n",
    "    'title': ['AI Revolution', 'Cooking Pasta', 'Python Tips', 'Travel Vlog'],\n",
    "    'tags': ['AI|Future|Tech', 'Food|Recipe|Dinner', 'Python|Code|Tips', 'Travel|Europe|Vlog'],\n",
    "    'channel_id': [1, 2, 1, 3]\n",
    "})\n",
    "\n",
    "# Engagement metrics\n",
    "df_engagement = pd.DataFrame({\n",
    "    'video_id': [101, 102, 103, 104],\n",
    "    'likes': [250, 180, 300, 220],\n",
    "    'dislikes': [30, 10, 40, 5],\n",
    "    'views': [5000, 4000, 6000, 3000],\n",
    "    'duration_min': [10, 12, 8, 15]\n",
    "})\n",
    "\n",
    "# Channel info\n",
    "df_channels = pd.DataFrame({\n",
    "    'channel_id': [1, 2, 3],\n",
    "    'channel_name': ['TechWorld', 'TastyChannel', 'Wanderlust']\n",
    "})"
   ]
  },
  {
   "cell_type": "markdown",
   "id": "217aaf55-21d8-4739-aacf-fdc4d2bf9150",
   "metadata": {},
   "source": [
    "##### # Feature Engineering - Create a column: like_ratio = likes / (likes + dislikes)"
   ]
  },
  {
   "cell_type": "code",
   "execution_count": 19,
   "id": "8493e570-8e70-4597-956c-c84c8571968b",
   "metadata": {},
   "outputs": [],
   "source": [
    "def compute_like_ratio(row):\n",
    "    total = row['likes'] + row['dislikes']\n",
    "    return row['likes'] / total if total > 0 else 0\n",
    "\n",
    "df_engagement['like_ratio'] = df_engagement.apply(compute_like_ratio, axis=1)"
   ]
  },
  {
   "cell_type": "markdown",
   "id": "664e2716-3a88-4f80-ae15-d18ee5a00ba6",
   "metadata": {},
   "source": [
    "##### Create a tag count column from df_videos"
   ]
  },
  {
   "cell_type": "code",
   "execution_count": 21,
   "id": "6a6ec3f4-3599-4bdf-b6ad-494db5cf5e6b",
   "metadata": {},
   "outputs": [
    {
     "data": {
      "text/html": [
       "<div>\n",
       "<style scoped>\n",
       "    .dataframe tbody tr th:only-of-type {\n",
       "        vertical-align: middle;\n",
       "    }\n",
       "\n",
       "    .dataframe tbody tr th {\n",
       "        vertical-align: top;\n",
       "    }\n",
       "\n",
       "    .dataframe thead th {\n",
       "        text-align: right;\n",
       "    }\n",
       "</style>\n",
       "<table border=\"1\" class=\"dataframe\">\n",
       "  <thead>\n",
       "    <tr style=\"text-align: right;\">\n",
       "      <th></th>\n",
       "      <th>video_id</th>\n",
       "      <th>title</th>\n",
       "      <th>tags</th>\n",
       "      <th>channel_id</th>\n",
       "      <th>tag_count</th>\n",
       "    </tr>\n",
       "  </thead>\n",
       "  <tbody>\n",
       "    <tr>\n",
       "      <th>0</th>\n",
       "      <td>101</td>\n",
       "      <td>AI Revolution</td>\n",
       "      <td>AI|Future|Tech</td>\n",
       "      <td>1</td>\n",
       "      <td>3</td>\n",
       "    </tr>\n",
       "    <tr>\n",
       "      <th>1</th>\n",
       "      <td>102</td>\n",
       "      <td>Cooking Pasta</td>\n",
       "      <td>Food|Recipe|Dinner</td>\n",
       "      <td>2</td>\n",
       "      <td>3</td>\n",
       "    </tr>\n",
       "    <tr>\n",
       "      <th>2</th>\n",
       "      <td>103</td>\n",
       "      <td>Python Tips</td>\n",
       "      <td>Python|Code|Tips</td>\n",
       "      <td>1</td>\n",
       "      <td>3</td>\n",
       "    </tr>\n",
       "    <tr>\n",
       "      <th>3</th>\n",
       "      <td>104</td>\n",
       "      <td>Travel Vlog</td>\n",
       "      <td>Travel|Europe|Vlog</td>\n",
       "      <td>3</td>\n",
       "      <td>3</td>\n",
       "    </tr>\n",
       "  </tbody>\n",
       "</table>\n",
       "</div>"
      ],
      "text/plain": [
       "   video_id          title                tags  channel_id  tag_count\n",
       "0       101  AI Revolution      AI|Future|Tech           1          3\n",
       "1       102  Cooking Pasta  Food|Recipe|Dinner           2          3\n",
       "2       103    Python Tips    Python|Code|Tips           1          3\n",
       "3       104    Travel Vlog  Travel|Europe|Vlog           3          3"
      ]
     },
     "execution_count": 21,
     "metadata": {},
     "output_type": "execute_result"
    }
   ],
   "source": [
    "df_videos['tag_count'] = df_videos['tags'].apply(lambda x: len(x.split('|')))\n",
    "df_videos"
   ]
  },
  {
   "cell_type": "markdown",
   "id": "54a906ac-634e-44eb-b2d7-6ba1c6fe13a5",
   "metadata": {},
   "source": [
    "##### Merge DataFrames"
   ]
  },
  {
   "cell_type": "code",
   "execution_count": 24,
   "id": "e5b9428c-44a5-4048-ab89-9af38ea91f89",
   "metadata": {},
   "outputs": [
    {
     "data": {
      "text/html": [
       "<div>\n",
       "<style scoped>\n",
       "    .dataframe tbody tr th:only-of-type {\n",
       "        vertical-align: middle;\n",
       "    }\n",
       "\n",
       "    .dataframe tbody tr th {\n",
       "        vertical-align: top;\n",
       "    }\n",
       "\n",
       "    .dataframe thead th {\n",
       "        text-align: right;\n",
       "    }\n",
       "</style>\n",
       "<table border=\"1\" class=\"dataframe\">\n",
       "  <thead>\n",
       "    <tr style=\"text-align: right;\">\n",
       "      <th></th>\n",
       "      <th>video_id</th>\n",
       "      <th>title</th>\n",
       "      <th>tags</th>\n",
       "      <th>channel_id</th>\n",
       "      <th>tag_count</th>\n",
       "      <th>likes</th>\n",
       "      <th>dislikes</th>\n",
       "      <th>views</th>\n",
       "      <th>duration_min</th>\n",
       "      <th>like_ratio</th>\n",
       "      <th>channel_name</th>\n",
       "    </tr>\n",
       "  </thead>\n",
       "  <tbody>\n",
       "    <tr>\n",
       "      <th>0</th>\n",
       "      <td>101</td>\n",
       "      <td>AI Revolution</td>\n",
       "      <td>AI|Future|Tech</td>\n",
       "      <td>1</td>\n",
       "      <td>3</td>\n",
       "      <td>250</td>\n",
       "      <td>30</td>\n",
       "      <td>5000</td>\n",
       "      <td>10</td>\n",
       "      <td>0.892857</td>\n",
       "      <td>TechWorld</td>\n",
       "    </tr>\n",
       "    <tr>\n",
       "      <th>1</th>\n",
       "      <td>102</td>\n",
       "      <td>Cooking Pasta</td>\n",
       "      <td>Food|Recipe|Dinner</td>\n",
       "      <td>2</td>\n",
       "      <td>3</td>\n",
       "      <td>180</td>\n",
       "      <td>10</td>\n",
       "      <td>4000</td>\n",
       "      <td>12</td>\n",
       "      <td>0.947368</td>\n",
       "      <td>TastyChannel</td>\n",
       "    </tr>\n",
       "    <tr>\n",
       "      <th>2</th>\n",
       "      <td>103</td>\n",
       "      <td>Python Tips</td>\n",
       "      <td>Python|Code|Tips</td>\n",
       "      <td>1</td>\n",
       "      <td>3</td>\n",
       "      <td>300</td>\n",
       "      <td>40</td>\n",
       "      <td>6000</td>\n",
       "      <td>8</td>\n",
       "      <td>0.882353</td>\n",
       "      <td>TechWorld</td>\n",
       "    </tr>\n",
       "    <tr>\n",
       "      <th>3</th>\n",
       "      <td>104</td>\n",
       "      <td>Travel Vlog</td>\n",
       "      <td>Travel|Europe|Vlog</td>\n",
       "      <td>3</td>\n",
       "      <td>3</td>\n",
       "      <td>220</td>\n",
       "      <td>5</td>\n",
       "      <td>3000</td>\n",
       "      <td>15</td>\n",
       "      <td>0.977778</td>\n",
       "      <td>Wanderlust</td>\n",
       "    </tr>\n",
       "  </tbody>\n",
       "</table>\n",
       "</div>"
      ],
      "text/plain": [
       "   video_id          title                tags  channel_id  tag_count  likes  \\\n",
       "0       101  AI Revolution      AI|Future|Tech           1          3    250   \n",
       "1       102  Cooking Pasta  Food|Recipe|Dinner           2          3    180   \n",
       "2       103    Python Tips    Python|Code|Tips           1          3    300   \n",
       "3       104    Travel Vlog  Travel|Europe|Vlog           3          3    220   \n",
       "\n",
       "   dislikes  views  duration_min  like_ratio  channel_name  \n",
       "0        30   5000            10    0.892857     TechWorld  \n",
       "1        10   4000            12    0.947368  TastyChannel  \n",
       "2        40   6000             8    0.882353     TechWorld  \n",
       "3         5   3000            15    0.977778    Wanderlust  "
      ]
     },
     "execution_count": 24,
     "metadata": {},
     "output_type": "execute_result"
    }
   ],
   "source": [
    "df_merged = pd.merge(df_videos, df_engagement, on='video_id')\n",
    "df_merged = pd.merge(df_merged, df_channels, on='channel_id')\n",
    "df_merged"
   ]
  },
  {
   "cell_type": "markdown",
   "id": "04257fad-8b7a-493a-b6d6-27930ca5db41",
   "metadata": {},
   "source": [
    "##### Aggregation – Channel-Level Stats"
   ]
  },
  {
   "cell_type": "code",
   "execution_count": 26,
   "id": "ad13cc28-43b8-4314-a2c8-a79e3a19913e",
   "metadata": {},
   "outputs": [
    {
     "data": {
      "text/html": [
       "<div>\n",
       "<style scoped>\n",
       "    .dataframe tbody tr th:only-of-type {\n",
       "        vertical-align: middle;\n",
       "    }\n",
       "\n",
       "    .dataframe tbody tr th {\n",
       "        vertical-align: top;\n",
       "    }\n",
       "\n",
       "    .dataframe thead th {\n",
       "        text-align: right;\n",
       "    }\n",
       "</style>\n",
       "<table border=\"1\" class=\"dataframe\">\n",
       "  <thead>\n",
       "    <tr style=\"text-align: right;\">\n",
       "      <th></th>\n",
       "      <th>avg_like_ratio</th>\n",
       "      <th>total_tags</th>\n",
       "      <th>total_duration</th>\n",
       "    </tr>\n",
       "    <tr>\n",
       "      <th>channel_name</th>\n",
       "      <th></th>\n",
       "      <th></th>\n",
       "      <th></th>\n",
       "    </tr>\n",
       "  </thead>\n",
       "  <tbody>\n",
       "    <tr>\n",
       "      <th>Wanderlust</th>\n",
       "      <td>0.977778</td>\n",
       "      <td>3</td>\n",
       "      <td>15</td>\n",
       "    </tr>\n",
       "    <tr>\n",
       "      <th>TastyChannel</th>\n",
       "      <td>0.947368</td>\n",
       "      <td>3</td>\n",
       "      <td>12</td>\n",
       "    </tr>\n",
       "    <tr>\n",
       "      <th>TechWorld</th>\n",
       "      <td>0.887605</td>\n",
       "      <td>6</td>\n",
       "      <td>18</td>\n",
       "    </tr>\n",
       "  </tbody>\n",
       "</table>\n",
       "</div>"
      ],
      "text/plain": [
       "              avg_like_ratio  total_tags  total_duration\n",
       "channel_name                                            \n",
       "Wanderlust          0.977778           3              15\n",
       "TastyChannel        0.947368           3              12\n",
       "TechWorld           0.887605           6              18"
      ]
     },
     "execution_count": 26,
     "metadata": {},
     "output_type": "execute_result"
    }
   ],
   "source": [
    "channel_stats = (\n",
    "    df_merged.groupby('channel_name')\n",
    "    .agg({\n",
    "        'like_ratio': 'mean',\n",
    "        'tag_count': 'sum',\n",
    "        'duration_min': 'sum'\n",
    "    })\n",
    "    .rename(columns={\n",
    "        'like_ratio' : 'avg_like_ratio',\n",
    "        'tag_count' : 'total_tags',\n",
    "        'duration_min' : 'total_duration'\n",
    "    })\n",
    "    .sort_values(by='avg_like_ratio', ascending=False)\n",
    ")\n",
    "channel_stats"
   ]
  },
  {
   "cell_type": "markdown",
   "id": "db08910c-3dc0-4955-b605-d91a01c79201",
   "metadata": {},
   "source": [
    "##### Advanced Filtering – High-Quality, Short Videos - Select videos with: like_ratio > 0.85, duration < 12 minutes and more than 2 tags"
   ]
  },
  {
   "cell_type": "code",
   "execution_count": 28,
   "id": "4494de13-57eb-4efd-b06f-c24da909a06f",
   "metadata": {},
   "outputs": [
    {
     "data": {
      "text/html": [
       "<div>\n",
       "<style scoped>\n",
       "    .dataframe tbody tr th:only-of-type {\n",
       "        vertical-align: middle;\n",
       "    }\n",
       "\n",
       "    .dataframe tbody tr th {\n",
       "        vertical-align: top;\n",
       "    }\n",
       "\n",
       "    .dataframe thead th {\n",
       "        text-align: right;\n",
       "    }\n",
       "</style>\n",
       "<table border=\"1\" class=\"dataframe\">\n",
       "  <thead>\n",
       "    <tr style=\"text-align: right;\">\n",
       "      <th></th>\n",
       "      <th>title</th>\n",
       "      <th>channel_name</th>\n",
       "      <th>like_ratio</th>\n",
       "      <th>duration_min</th>\n",
       "      <th>tag_count</th>\n",
       "    </tr>\n",
       "  </thead>\n",
       "  <tbody>\n",
       "    <tr>\n",
       "      <th>0</th>\n",
       "      <td>AI Revolution</td>\n",
       "      <td>TechWorld</td>\n",
       "      <td>0.892857</td>\n",
       "      <td>10</td>\n",
       "      <td>3</td>\n",
       "    </tr>\n",
       "    <tr>\n",
       "      <th>2</th>\n",
       "      <td>Python Tips</td>\n",
       "      <td>TechWorld</td>\n",
       "      <td>0.882353</td>\n",
       "      <td>8</td>\n",
       "      <td>3</td>\n",
       "    </tr>\n",
       "  </tbody>\n",
       "</table>\n",
       "</div>"
      ],
      "text/plain": [
       "           title channel_name  like_ratio  duration_min  tag_count\n",
       "0  AI Revolution    TechWorld    0.892857            10          3\n",
       "2    Python Tips    TechWorld    0.882353             8          3"
      ]
     },
     "execution_count": 28,
     "metadata": {},
     "output_type": "execute_result"
    }
   ],
   "source": [
    "high_quality= (\n",
    "    df_merged\n",
    "    .query('like_ratio > 0.85 and duration_min < 12 and tag_count > 2')\n",
    "    [['title', 'channel_name', 'like_ratio', 'duration_min', 'tag_count']]\n",
    "    .sort_values(by='like_ratio', ascending=False)\n",
    ")\n",
    "high_quality"
   ]
  },
  {
   "cell_type": "code",
   "execution_count": null,
   "id": "bb94a0da-296f-47b8-8a9b-6e1e31c06f4b",
   "metadata": {},
   "outputs": [],
   "source": []
  }
 ],
 "metadata": {
  "kernelspec": {
   "display_name": "Python [conda env:base] *",
   "language": "python",
   "name": "conda-base-py"
  },
  "language_info": {
   "codemirror_mode": {
    "name": "ipython",
    "version": 3
   },
   "file_extension": ".py",
   "mimetype": "text/x-python",
   "name": "python",
   "nbconvert_exporter": "python",
   "pygments_lexer": "ipython3",
   "version": "3.12.7"
  }
 },
 "nbformat": 4,
 "nbformat_minor": 5
}
