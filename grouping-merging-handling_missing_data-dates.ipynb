{
 "cells": [
  {
   "cell_type": "markdown",
   "id": "f6188512-cea8-46b1-8bda-d82044e88e65",
   "metadata": {},
   "source": [
    "#### Pandas – Grouping, Merging, Handling Missing Data, and Dates"
   ]
  },
  {
   "cell_type": "markdown",
   "id": "a60d9028-4942-41fb-b9fa-190000f632fe",
   "metadata": {},
   "source": [
    "<i> We will continue using a clean and small dataset, now adding scenarios involving grouping, merging, handling missing values, and working with dates. </i>"
   ]
  },
  {
   "cell_type": "markdown",
   "id": "538f50ae-a53b-4767-b339-3737119e1d5b",
   "metadata": {},
   "source": [
    "#####  Import Required Libraries"
   ]
  },
  {
   "cell_type": "code",
   "execution_count": 1,
   "id": "cd4e8dc3-8f76-4738-9035-a84825359e44",
   "metadata": {},
   "outputs": [],
   "source": [
    "import pandas as pd\n",
    "import numpy as np"
   ]
  },
  {
   "cell_type": "markdown",
   "id": "1976b9d4-c6ee-42a4-87bd-7a92f3826db4",
   "metadata": {},
   "source": [
    "##### Sample DataFrames"
   ]
  },
  {
   "cell_type": "code",
   "execution_count": 2,
   "id": "e86049cb-72ef-4203-aac8-07ad0aede10c",
   "metadata": {},
   "outputs": [],
   "source": [
    "# Main animals dataset\n",
    "df1 = pd.DataFrame({\n",
    "    'animal': ['cat', 'dog', 'cat', 'dog', 'snake'],\n",
    "    'age': [3, 5, np.nan, 7, 4],\n",
    "    'visits': [2, 3, 2, 1, 2],\n",
    "    'priority': ['yes', 'no', 'yes', 'no', 'no']\n",
    "})\n",
    "\n",
    "# Additional dataset for merging\n",
    "df2 = pd.DataFrame({\n",
    "    'animal': ['cat', 'dog', 'snake'],\n",
    "    'type_code': ['C', 'D', 'S']\n",
    "})"
   ]
  },
  {
   "cell_type": "markdown",
   "id": "1d9267b1-1948-434d-b48b-b99e6cee1807",
   "metadata": {},
   "source": [
    "##### Grouping and Aggregation - Count the number of visits by each priority status."
   ]
  },
  {
   "cell_type": "code",
   "execution_count": 3,
   "id": "dceecbbd-8bf7-459f-81ab-b062831ac781",
   "metadata": {
    "scrolled": true
   },
   "outputs": [
    {
     "data": {
      "text/plain": [
       "priority\n",
       "no     6\n",
       "yes    4\n",
       "Name: visits, dtype: int64"
      ]
     },
     "execution_count": 3,
     "metadata": {},
     "output_type": "execute_result"
    }
   ],
   "source": [
    "df1.groupby('priority')['visits'].sum()"
   ]
  },
  {
   "cell_type": "markdown",
   "id": "91c9a386-e312-4041-a8cb-af7de60161a5",
   "metadata": {},
   "source": [
    "##### Calculate both the mean and max visits for each animal type."
   ]
  },
  {
   "cell_type": "code",
   "execution_count": 4,
   "id": "295d9855-33f9-44ac-8014-3063ff40c2ae",
   "metadata": {},
   "outputs": [
    {
     "data": {
      "text/html": [
       "<div>\n",
       "<style scoped>\n",
       "    .dataframe tbody tr th:only-of-type {\n",
       "        vertical-align: middle;\n",
       "    }\n",
       "\n",
       "    .dataframe tbody tr th {\n",
       "        vertical-align: top;\n",
       "    }\n",
       "\n",
       "    .dataframe thead th {\n",
       "        text-align: right;\n",
       "    }\n",
       "</style>\n",
       "<table border=\"1\" class=\"dataframe\">\n",
       "  <thead>\n",
       "    <tr style=\"text-align: right;\">\n",
       "      <th></th>\n",
       "      <th>mean</th>\n",
       "      <th>max</th>\n",
       "    </tr>\n",
       "    <tr>\n",
       "      <th>animal</th>\n",
       "      <th></th>\n",
       "      <th></th>\n",
       "    </tr>\n",
       "  </thead>\n",
       "  <tbody>\n",
       "    <tr>\n",
       "      <th>cat</th>\n",
       "      <td>2.0</td>\n",
       "      <td>2</td>\n",
       "    </tr>\n",
       "    <tr>\n",
       "      <th>dog</th>\n",
       "      <td>2.0</td>\n",
       "      <td>3</td>\n",
       "    </tr>\n",
       "    <tr>\n",
       "      <th>snake</th>\n",
       "      <td>2.0</td>\n",
       "      <td>2</td>\n",
       "    </tr>\n",
       "  </tbody>\n",
       "</table>\n",
       "</div>"
      ],
      "text/plain": [
       "        mean  max\n",
       "animal           \n",
       "cat      2.0    2\n",
       "dog      2.0    3\n",
       "snake    2.0    2"
      ]
     },
     "execution_count": 4,
     "metadata": {},
     "output_type": "execute_result"
    }
   ],
   "source": [
    "df1.groupby('animal')['visits'].agg(['mean', 'max'])"
   ]
  },
  {
   "cell_type": "markdown",
   "id": "8eaf4577-ef40-4b82-bc96-c3679a09d863",
   "metadata": {},
   "source": [
    "##### Merging DataFrames"
   ]
  },
  {
   "cell_type": "code",
   "execution_count": 5,
   "id": "4aefee7b-543f-4669-9f81-f53fc694f509",
   "metadata": {},
   "outputs": [
    {
     "data": {
      "text/html": [
       "<div>\n",
       "<style scoped>\n",
       "    .dataframe tbody tr th:only-of-type {\n",
       "        vertical-align: middle;\n",
       "    }\n",
       "\n",
       "    .dataframe tbody tr th {\n",
       "        vertical-align: top;\n",
       "    }\n",
       "\n",
       "    .dataframe thead th {\n",
       "        text-align: right;\n",
       "    }\n",
       "</style>\n",
       "<table border=\"1\" class=\"dataframe\">\n",
       "  <thead>\n",
       "    <tr style=\"text-align: right;\">\n",
       "      <th></th>\n",
       "      <th>animal</th>\n",
       "      <th>age</th>\n",
       "      <th>visits</th>\n",
       "      <th>priority</th>\n",
       "      <th>type_code</th>\n",
       "    </tr>\n",
       "  </thead>\n",
       "  <tbody>\n",
       "    <tr>\n",
       "      <th>0</th>\n",
       "      <td>cat</td>\n",
       "      <td>3.0</td>\n",
       "      <td>2</td>\n",
       "      <td>yes</td>\n",
       "      <td>C</td>\n",
       "    </tr>\n",
       "    <tr>\n",
       "      <th>1</th>\n",
       "      <td>dog</td>\n",
       "      <td>5.0</td>\n",
       "      <td>3</td>\n",
       "      <td>no</td>\n",
       "      <td>D</td>\n",
       "    </tr>\n",
       "    <tr>\n",
       "      <th>2</th>\n",
       "      <td>cat</td>\n",
       "      <td>NaN</td>\n",
       "      <td>2</td>\n",
       "      <td>yes</td>\n",
       "      <td>C</td>\n",
       "    </tr>\n",
       "    <tr>\n",
       "      <th>3</th>\n",
       "      <td>dog</td>\n",
       "      <td>7.0</td>\n",
       "      <td>1</td>\n",
       "      <td>no</td>\n",
       "      <td>D</td>\n",
       "    </tr>\n",
       "    <tr>\n",
       "      <th>4</th>\n",
       "      <td>snake</td>\n",
       "      <td>4.0</td>\n",
       "      <td>2</td>\n",
       "      <td>no</td>\n",
       "      <td>S</td>\n",
       "    </tr>\n",
       "  </tbody>\n",
       "</table>\n",
       "</div>"
      ],
      "text/plain": [
       "  animal  age  visits priority type_code\n",
       "0    cat  3.0       2      yes         C\n",
       "1    dog  5.0       3       no         D\n",
       "2    cat  NaN       2      yes         C\n",
       "3    dog  7.0       1       no         D\n",
       "4  snake  4.0       2       no         S"
      ]
     },
     "execution_count": 5,
     "metadata": {},
     "output_type": "execute_result"
    }
   ],
   "source": [
    "merged_df = pd.merge(df1, df2, on='animal')\n",
    "merged_df"
   ]
  },
  {
   "cell_type": "markdown",
   "id": "e4e9895b-4761-460d-bb1a-2934df4c16a0",
   "metadata": {},
   "source": [
    "##### Handling Missing Data - Find rows where the age is missing."
   ]
  },
  {
   "cell_type": "code",
   "execution_count": 6,
   "id": "7ffcbf15-0720-4084-8816-0f3f39723449",
   "metadata": {},
   "outputs": [
    {
     "data": {
      "text/html": [
       "<div>\n",
       "<style scoped>\n",
       "    .dataframe tbody tr th:only-of-type {\n",
       "        vertical-align: middle;\n",
       "    }\n",
       "\n",
       "    .dataframe tbody tr th {\n",
       "        vertical-align: top;\n",
       "    }\n",
       "\n",
       "    .dataframe thead th {\n",
       "        text-align: right;\n",
       "    }\n",
       "</style>\n",
       "<table border=\"1\" class=\"dataframe\">\n",
       "  <thead>\n",
       "    <tr style=\"text-align: right;\">\n",
       "      <th></th>\n",
       "      <th>animal</th>\n",
       "      <th>age</th>\n",
       "      <th>visits</th>\n",
       "      <th>priority</th>\n",
       "    </tr>\n",
       "  </thead>\n",
       "  <tbody>\n",
       "    <tr>\n",
       "      <th>2</th>\n",
       "      <td>cat</td>\n",
       "      <td>NaN</td>\n",
       "      <td>2</td>\n",
       "      <td>yes</td>\n",
       "    </tr>\n",
       "  </tbody>\n",
       "</table>\n",
       "</div>"
      ],
      "text/plain": [
       "  animal  age  visits priority\n",
       "2    cat  NaN       2      yes"
      ]
     },
     "execution_count": 6,
     "metadata": {},
     "output_type": "execute_result"
    }
   ],
   "source": [
    "df1[df1['age'].isnull()]"
   ]
  },
  {
   "cell_type": "markdown",
   "id": "8417762a-86c0-4be6-9935-297fa110ff10",
   "metadata": {},
   "source": [
    "##### Fill missing age values with the average age of that animal."
   ]
  },
  {
   "cell_type": "code",
   "execution_count": 9,
   "id": "058caf2b-53b4-4a8d-8fea-6ab6c7e12429",
   "metadata": {},
   "outputs": [
    {
     "data": {
      "text/html": [
       "<div>\n",
       "<style scoped>\n",
       "    .dataframe tbody tr th:only-of-type {\n",
       "        vertical-align: middle;\n",
       "    }\n",
       "\n",
       "    .dataframe tbody tr th {\n",
       "        vertical-align: top;\n",
       "    }\n",
       "\n",
       "    .dataframe thead th {\n",
       "        text-align: right;\n",
       "    }\n",
       "</style>\n",
       "<table border=\"1\" class=\"dataframe\">\n",
       "  <thead>\n",
       "    <tr style=\"text-align: right;\">\n",
       "      <th></th>\n",
       "      <th>animal</th>\n",
       "      <th>age</th>\n",
       "      <th>visits</th>\n",
       "      <th>priority</th>\n",
       "    </tr>\n",
       "  </thead>\n",
       "  <tbody>\n",
       "    <tr>\n",
       "      <th>0</th>\n",
       "      <td>cat</td>\n",
       "      <td>3.0</td>\n",
       "      <td>2</td>\n",
       "      <td>yes</td>\n",
       "    </tr>\n",
       "    <tr>\n",
       "      <th>1</th>\n",
       "      <td>dog</td>\n",
       "      <td>5.0</td>\n",
       "      <td>3</td>\n",
       "      <td>no</td>\n",
       "    </tr>\n",
       "    <tr>\n",
       "      <th>2</th>\n",
       "      <td>cat</td>\n",
       "      <td>3.0</td>\n",
       "      <td>2</td>\n",
       "      <td>yes</td>\n",
       "    </tr>\n",
       "    <tr>\n",
       "      <th>3</th>\n",
       "      <td>dog</td>\n",
       "      <td>7.0</td>\n",
       "      <td>1</td>\n",
       "      <td>no</td>\n",
       "    </tr>\n",
       "    <tr>\n",
       "      <th>4</th>\n",
       "      <td>snake</td>\n",
       "      <td>4.0</td>\n",
       "      <td>2</td>\n",
       "      <td>no</td>\n",
       "    </tr>\n",
       "  </tbody>\n",
       "</table>\n",
       "</div>"
      ],
      "text/plain": [
       "  animal  age  visits priority\n",
       "0    cat  3.0       2      yes\n",
       "1    dog  5.0       3       no\n",
       "2    cat  3.0       2      yes\n",
       "3    dog  7.0       1       no\n",
       "4  snake  4.0       2       no"
      ]
     },
     "execution_count": 9,
     "metadata": {},
     "output_type": "execute_result"
    }
   ],
   "source": [
    "df1['age']= df1.groupby('animal')['age'].transform(lambda x:x.fillna(x.mean()))\n",
    "df1"
   ]
  },
  {
   "cell_type": "markdown",
   "id": "8be40fd2-fa47-4e48-a29f-8e528bcb1098",
   "metadata": {},
   "source": [
    "##### Working with Dates - Create a DataFrame with datetime data."
   ]
  },
  {
   "cell_type": "code",
   "execution_count": 12,
   "id": "b1b9c073-86c7-40f0-80bc-a57a0ec96d3d",
   "metadata": {},
   "outputs": [
    {
     "data": {
      "text/html": [
       "<div>\n",
       "<style scoped>\n",
       "    .dataframe tbody tr th:only-of-type {\n",
       "        vertical-align: middle;\n",
       "    }\n",
       "\n",
       "    .dataframe tbody tr th {\n",
       "        vertical-align: top;\n",
       "    }\n",
       "\n",
       "    .dataframe thead th {\n",
       "        text-align: right;\n",
       "    }\n",
       "</style>\n",
       "<table border=\"1\" class=\"dataframe\">\n",
       "  <thead>\n",
       "    <tr style=\"text-align: right;\">\n",
       "      <th></th>\n",
       "      <th>animal</th>\n",
       "      <th>visit_date</th>\n",
       "      <th>visits</th>\n",
       "    </tr>\n",
       "  </thead>\n",
       "  <tbody>\n",
       "    <tr>\n",
       "      <th>0</th>\n",
       "      <td>cat</td>\n",
       "      <td>2023-06-01</td>\n",
       "      <td>1</td>\n",
       "    </tr>\n",
       "    <tr>\n",
       "      <th>1</th>\n",
       "      <td>dog</td>\n",
       "      <td>2023-06-02</td>\n",
       "      <td>2</td>\n",
       "    </tr>\n",
       "    <tr>\n",
       "      <th>2</th>\n",
       "      <td>snake</td>\n",
       "      <td>2023-06-02</td>\n",
       "      <td>1</td>\n",
       "    </tr>\n",
       "    <tr>\n",
       "      <th>3</th>\n",
       "      <td>cat</td>\n",
       "      <td>2023-06-03</td>\n",
       "      <td>3</td>\n",
       "    </tr>\n",
       "    <tr>\n",
       "      <th>4</th>\n",
       "      <td>dog</td>\n",
       "      <td>2023-06-03</td>\n",
       "      <td>1</td>\n",
       "    </tr>\n",
       "  </tbody>\n",
       "</table>\n",
       "</div>"
      ],
      "text/plain": [
       "  animal visit_date  visits\n",
       "0    cat 2023-06-01       1\n",
       "1    dog 2023-06-02       2\n",
       "2  snake 2023-06-02       1\n",
       "3    cat 2023-06-03       3\n",
       "4    dog 2023-06-03       1"
      ]
     },
     "execution_count": 12,
     "metadata": {},
     "output_type": "execute_result"
    }
   ],
   "source": [
    "date_df=pd.DataFrame({ 'animal': ['cat', 'dog', 'snake', 'cat', 'dog'],\n",
    "    'visit_date': pd.to_datetime(['2023-06-01', '2023-06-02', '2023-06-02', '2023-06-03', '2023-06-03']),\n",
    "    'visits': [1, 2, 1, 3, 1]\n",
    "})\n",
    "date_df"
   ]
  },
  {
   "cell_type": "markdown",
   "id": "f36806f4-54eb-4fff-b4f6-530e64f75273",
   "metadata": {},
   "source": [
    "##### Extract year and weekday from the visit date:"
   ]
  },
  {
   "cell_type": "code",
   "execution_count": 14,
   "id": "059ff782-fbf8-46b6-9868-1a05d0c27b9f",
   "metadata": {},
   "outputs": [
    {
     "data": {
      "text/html": [
       "<div>\n",
       "<style scoped>\n",
       "    .dataframe tbody tr th:only-of-type {\n",
       "        vertical-align: middle;\n",
       "    }\n",
       "\n",
       "    .dataframe tbody tr th {\n",
       "        vertical-align: top;\n",
       "    }\n",
       "\n",
       "    .dataframe thead th {\n",
       "        text-align: right;\n",
       "    }\n",
       "</style>\n",
       "<table border=\"1\" class=\"dataframe\">\n",
       "  <thead>\n",
       "    <tr style=\"text-align: right;\">\n",
       "      <th></th>\n",
       "      <th>animal</th>\n",
       "      <th>visit_date</th>\n",
       "      <th>visits</th>\n",
       "      <th>year</th>\n",
       "      <th>weekday</th>\n",
       "    </tr>\n",
       "  </thead>\n",
       "  <tbody>\n",
       "    <tr>\n",
       "      <th>0</th>\n",
       "      <td>cat</td>\n",
       "      <td>2023-06-01</td>\n",
       "      <td>1</td>\n",
       "      <td>2023</td>\n",
       "      <td>Thursday</td>\n",
       "    </tr>\n",
       "    <tr>\n",
       "      <th>1</th>\n",
       "      <td>dog</td>\n",
       "      <td>2023-06-02</td>\n",
       "      <td>2</td>\n",
       "      <td>2023</td>\n",
       "      <td>Friday</td>\n",
       "    </tr>\n",
       "    <tr>\n",
       "      <th>2</th>\n",
       "      <td>snake</td>\n",
       "      <td>2023-06-02</td>\n",
       "      <td>1</td>\n",
       "      <td>2023</td>\n",
       "      <td>Friday</td>\n",
       "    </tr>\n",
       "    <tr>\n",
       "      <th>3</th>\n",
       "      <td>cat</td>\n",
       "      <td>2023-06-03</td>\n",
       "      <td>3</td>\n",
       "      <td>2023</td>\n",
       "      <td>Saturday</td>\n",
       "    </tr>\n",
       "    <tr>\n",
       "      <th>4</th>\n",
       "      <td>dog</td>\n",
       "      <td>2023-06-03</td>\n",
       "      <td>1</td>\n",
       "      <td>2023</td>\n",
       "      <td>Saturday</td>\n",
       "    </tr>\n",
       "  </tbody>\n",
       "</table>\n",
       "</div>"
      ],
      "text/plain": [
       "  animal visit_date  visits  year   weekday\n",
       "0    cat 2023-06-01       1  2023  Thursday\n",
       "1    dog 2023-06-02       2  2023    Friday\n",
       "2  snake 2023-06-02       1  2023    Friday\n",
       "3    cat 2023-06-03       3  2023  Saturday\n",
       "4    dog 2023-06-03       1  2023  Saturday"
      ]
     },
     "execution_count": 14,
     "metadata": {},
     "output_type": "execute_result"
    }
   ],
   "source": [
    "date_df['year'] = date_df['visit_date'].dt.year\n",
    "date_df['weekday']=date_df['visit_date'].dt.day_name()\n",
    "date_df"
   ]
  },
  {
   "cell_type": "markdown",
   "id": "b35a9bcb-f4dc-43b2-aa82-09689e411d06",
   "metadata": {},
   "source": [
    "##### Add a new row to the DataFrame and then remove it."
   ]
  },
  {
   "cell_type": "code",
   "execution_count": 17,
   "id": "586b50b7-2074-43bc-9773-b19a194dff1a",
   "metadata": {},
   "outputs": [
    {
     "data": {
      "text/html": [
       "<div>\n",
       "<style scoped>\n",
       "    .dataframe tbody tr th:only-of-type {\n",
       "        vertical-align: middle;\n",
       "    }\n",
       "\n",
       "    .dataframe tbody tr th {\n",
       "        vertical-align: top;\n",
       "    }\n",
       "\n",
       "    .dataframe thead th {\n",
       "        text-align: right;\n",
       "    }\n",
       "</style>\n",
       "<table border=\"1\" class=\"dataframe\">\n",
       "  <thead>\n",
       "    <tr style=\"text-align: right;\">\n",
       "      <th></th>\n",
       "      <th>animal</th>\n",
       "      <th>age</th>\n",
       "      <th>visits</th>\n",
       "      <th>priority</th>\n",
       "    </tr>\n",
       "  </thead>\n",
       "  <tbody>\n",
       "    <tr>\n",
       "      <th>0</th>\n",
       "      <td>cat</td>\n",
       "      <td>3.0</td>\n",
       "      <td>2</td>\n",
       "      <td>yes</td>\n",
       "    </tr>\n",
       "    <tr>\n",
       "      <th>1</th>\n",
       "      <td>dog</td>\n",
       "      <td>5.0</td>\n",
       "      <td>3</td>\n",
       "      <td>no</td>\n",
       "    </tr>\n",
       "    <tr>\n",
       "      <th>2</th>\n",
       "      <td>cat</td>\n",
       "      <td>3.0</td>\n",
       "      <td>2</td>\n",
       "      <td>yes</td>\n",
       "    </tr>\n",
       "    <tr>\n",
       "      <th>3</th>\n",
       "      <td>dog</td>\n",
       "      <td>7.0</td>\n",
       "      <td>1</td>\n",
       "      <td>no</td>\n",
       "    </tr>\n",
       "    <tr>\n",
       "      <th>4</th>\n",
       "      <td>snake</td>\n",
       "      <td>4.0</td>\n",
       "      <td>2</td>\n",
       "      <td>no</td>\n",
       "    </tr>\n",
       "    <tr>\n",
       "      <th>5</th>\n",
       "      <td>parrot</td>\n",
       "      <td>2.0</td>\n",
       "      <td>1</td>\n",
       "      <td>yes</td>\n",
       "    </tr>\n",
       "  </tbody>\n",
       "</table>\n",
       "</div>"
      ],
      "text/plain": [
       "   animal  age  visits priority\n",
       "0     cat  3.0       2      yes\n",
       "1     dog  5.0       3       no\n",
       "2     cat  3.0       2      yes\n",
       "3     dog  7.0       1       no\n",
       "4   snake  4.0       2       no\n",
       "5  parrot  2.0       1      yes"
      ]
     },
     "execution_count": 17,
     "metadata": {},
     "output_type": "execute_result"
    }
   ],
   "source": [
    "df1.loc[len(df1)] = ['parrot', 2, 1, 'yes']\n",
    "df1"
   ]
  },
  {
   "cell_type": "code",
   "execution_count": 18,
   "id": "e39ce05c-f5fe-468f-be12-242f5d83a401",
   "metadata": {},
   "outputs": [
    {
     "data": {
      "text/html": [
       "<div>\n",
       "<style scoped>\n",
       "    .dataframe tbody tr th:only-of-type {\n",
       "        vertical-align: middle;\n",
       "    }\n",
       "\n",
       "    .dataframe tbody tr th {\n",
       "        vertical-align: top;\n",
       "    }\n",
       "\n",
       "    .dataframe thead th {\n",
       "        text-align: right;\n",
       "    }\n",
       "</style>\n",
       "<table border=\"1\" class=\"dataframe\">\n",
       "  <thead>\n",
       "    <tr style=\"text-align: right;\">\n",
       "      <th></th>\n",
       "      <th>animal</th>\n",
       "      <th>age</th>\n",
       "      <th>visits</th>\n",
       "      <th>priority</th>\n",
       "    </tr>\n",
       "  </thead>\n",
       "  <tbody>\n",
       "    <tr>\n",
       "      <th>0</th>\n",
       "      <td>cat</td>\n",
       "      <td>3.0</td>\n",
       "      <td>2</td>\n",
       "      <td>yes</td>\n",
       "    </tr>\n",
       "    <tr>\n",
       "      <th>1</th>\n",
       "      <td>dog</td>\n",
       "      <td>5.0</td>\n",
       "      <td>3</td>\n",
       "      <td>no</td>\n",
       "    </tr>\n",
       "    <tr>\n",
       "      <th>2</th>\n",
       "      <td>cat</td>\n",
       "      <td>3.0</td>\n",
       "      <td>2</td>\n",
       "      <td>yes</td>\n",
       "    </tr>\n",
       "    <tr>\n",
       "      <th>3</th>\n",
       "      <td>dog</td>\n",
       "      <td>7.0</td>\n",
       "      <td>1</td>\n",
       "      <td>no</td>\n",
       "    </tr>\n",
       "    <tr>\n",
       "      <th>4</th>\n",
       "      <td>snake</td>\n",
       "      <td>4.0</td>\n",
       "      <td>2</td>\n",
       "      <td>no</td>\n",
       "    </tr>\n",
       "  </tbody>\n",
       "</table>\n",
       "</div>"
      ],
      "text/plain": [
       "  animal  age  visits priority\n",
       "0    cat  3.0       2      yes\n",
       "1    dog  5.0       3       no\n",
       "2    cat  3.0       2      yes\n",
       "3    dog  7.0       1       no\n",
       "4  snake  4.0       2       no"
      ]
     },
     "execution_count": 18,
     "metadata": {},
     "output_type": "execute_result"
    }
   ],
   "source": [
    "df1 = df1.drop(df1[df1['animal'] == 'parrot'].index)\n",
    "df1"
   ]
  },
  {
   "cell_type": "markdown",
   "id": "2f7797c5-4104-498c-8731-0af2c2db494a",
   "metadata": {},
   "source": [
    "##### Using .query() for Filtering"
   ]
  },
  {
   "cell_type": "code",
   "execution_count": 20,
   "id": "3963ab6b-2321-4994-ad77-6d8beba860b9",
   "metadata": {},
   "outputs": [
    {
     "data": {
      "text/html": [
       "<div>\n",
       "<style scoped>\n",
       "    .dataframe tbody tr th:only-of-type {\n",
       "        vertical-align: middle;\n",
       "    }\n",
       "\n",
       "    .dataframe tbody tr th {\n",
       "        vertical-align: top;\n",
       "    }\n",
       "\n",
       "    .dataframe thead th {\n",
       "        text-align: right;\n",
       "    }\n",
       "</style>\n",
       "<table border=\"1\" class=\"dataframe\">\n",
       "  <thead>\n",
       "    <tr style=\"text-align: right;\">\n",
       "      <th></th>\n",
       "      <th>animal</th>\n",
       "      <th>age</th>\n",
       "      <th>visits</th>\n",
       "    </tr>\n",
       "  </thead>\n",
       "  <tbody>\n",
       "    <tr>\n",
       "      <th>1</th>\n",
       "      <td>dog</td>\n",
       "      <td>5.0</td>\n",
       "      <td>3</td>\n",
       "    </tr>\n",
       "    <tr>\n",
       "      <th>4</th>\n",
       "      <td>snake</td>\n",
       "      <td>4.0</td>\n",
       "      <td>2</td>\n",
       "    </tr>\n",
       "    <tr>\n",
       "      <th>0</th>\n",
       "      <td>cat</td>\n",
       "      <td>3.0</td>\n",
       "      <td>2</td>\n",
       "    </tr>\n",
       "    <tr>\n",
       "      <th>2</th>\n",
       "      <td>cat</td>\n",
       "      <td>3.0</td>\n",
       "      <td>2</td>\n",
       "    </tr>\n",
       "  </tbody>\n",
       "</table>\n",
       "</div>"
      ],
      "text/plain": [
       "  animal  age  visits\n",
       "1    dog  5.0       3\n",
       "4  snake  4.0       2\n",
       "0    cat  3.0       2\n",
       "2    cat  3.0       2"
      ]
     },
     "execution_count": 20,
     "metadata": {},
     "output_type": "execute_result"
    }
   ],
   "source": [
    "#Path I\n",
    "df1[\n",
    "    df1['age'].between(2,5)\n",
    "][['animal', 'age', 'visits']].sort_values(by='age', ascending=False)"
   ]
  },
  {
   "cell_type": "code",
   "execution_count": 21,
   "id": "12a464df-3df8-4e4e-be3d-38d8d4fe0812",
   "metadata": {},
   "outputs": [
    {
     "data": {
      "text/html": [
       "<div>\n",
       "<style scoped>\n",
       "    .dataframe tbody tr th:only-of-type {\n",
       "        vertical-align: middle;\n",
       "    }\n",
       "\n",
       "    .dataframe tbody tr th {\n",
       "        vertical-align: top;\n",
       "    }\n",
       "\n",
       "    .dataframe thead th {\n",
       "        text-align: right;\n",
       "    }\n",
       "</style>\n",
       "<table border=\"1\" class=\"dataframe\">\n",
       "  <thead>\n",
       "    <tr style=\"text-align: right;\">\n",
       "      <th></th>\n",
       "      <th>animal</th>\n",
       "      <th>age</th>\n",
       "      <th>visits</th>\n",
       "    </tr>\n",
       "  </thead>\n",
       "  <tbody>\n",
       "    <tr>\n",
       "      <th>1</th>\n",
       "      <td>dog</td>\n",
       "      <td>5.0</td>\n",
       "      <td>3</td>\n",
       "    </tr>\n",
       "    <tr>\n",
       "      <th>4</th>\n",
       "      <td>snake</td>\n",
       "      <td>4.0</td>\n",
       "      <td>2</td>\n",
       "    </tr>\n",
       "    <tr>\n",
       "      <th>0</th>\n",
       "      <td>cat</td>\n",
       "      <td>3.0</td>\n",
       "      <td>2</td>\n",
       "    </tr>\n",
       "    <tr>\n",
       "      <th>2</th>\n",
       "      <td>cat</td>\n",
       "      <td>3.0</td>\n",
       "      <td>2</td>\n",
       "    </tr>\n",
       "  </tbody>\n",
       "</table>\n",
       "</div>"
      ],
      "text/plain": [
       "  animal  age  visits\n",
       "1    dog  5.0       3\n",
       "4  snake  4.0       2\n",
       "0    cat  3.0       2\n",
       "2    cat  3.0       2"
      ]
     },
     "execution_count": 21,
     "metadata": {},
     "output_type": "execute_result"
    }
   ],
   "source": [
    "#Path II\n",
    "(\n",
    "    df1.query('2 <= age <= 5')\n",
    "    .loc[:, ['animal', 'age', 'visits']]\n",
    "    .sort_values(by='age', ascending=False)\n",
    ")"
   ]
  },
  {
   "cell_type": "markdown",
   "id": "5a5a3d1e-0e83-427e-8ed2-f98f0eed0bb6",
   "metadata": {},
   "source": [
    "##### Filter rows where the 'Name' column contains the word \"and\" (case insensitive)."
   ]
  },
  {
   "cell_type": "code",
   "execution_count": 23,
   "id": "373c5409-d990-40b6-85a6-b61e03d0067c",
   "metadata": {},
   "outputs": [],
   "source": [
    "# Sample DataFrame\n",
    "\n",
    "df = pd.DataFrame({\n",
    "    'Name': [\n",
    "        'Tom Hanks',\n",
    "        'Emma Stone',\n",
    "        'Ryan Gosling and Emma Stone',\n",
    "        'Will Smith and Martin Lawrence',\n",
    "        'Jennifer Lawrence',\n",
    "        'Ben Affleck'\n",
    "    ],\n",
    "    'Movie': [\n",
    "        'Forrest Gump',\n",
    "        'La La Land',\n",
    "        'La La Land',\n",
    "        'Bad Boys',\n",
    "        'Hunger Games',\n",
    "        'Argo'\n",
    "    ]\n",
    "})"
   ]
  },
  {
   "cell_type": "code",
   "execution_count": 24,
   "id": "375af62e-007e-4e3c-a10b-fa87f8cff764",
   "metadata": {},
   "outputs": [],
   "source": [
    "def contains_and(name: str) -> bool:\n",
    "    return 'and' in name.lower()"
   ]
  },
  {
   "cell_type": "code",
   "execution_count": 25,
   "id": "1d023c4a-7462-4d0d-b32a-e16421939f9f",
   "metadata": {},
   "outputs": [
    {
     "data": {
      "text/html": [
       "<div>\n",
       "<style scoped>\n",
       "    .dataframe tbody tr th:only-of-type {\n",
       "        vertical-align: middle;\n",
       "    }\n",
       "\n",
       "    .dataframe tbody tr th {\n",
       "        vertical-align: top;\n",
       "    }\n",
       "\n",
       "    .dataframe thead th {\n",
       "        text-align: right;\n",
       "    }\n",
       "</style>\n",
       "<table border=\"1\" class=\"dataframe\">\n",
       "  <thead>\n",
       "    <tr style=\"text-align: right;\">\n",
       "      <th></th>\n",
       "      <th>Name</th>\n",
       "      <th>Movie</th>\n",
       "    </tr>\n",
       "  </thead>\n",
       "  <tbody>\n",
       "    <tr>\n",
       "      <th>2</th>\n",
       "      <td>Ryan Gosling and Emma Stone</td>\n",
       "      <td>La La Land</td>\n",
       "    </tr>\n",
       "    <tr>\n",
       "      <th>3</th>\n",
       "      <td>Will Smith and Martin Lawrence</td>\n",
       "      <td>Bad Boys</td>\n",
       "    </tr>\n",
       "  </tbody>\n",
       "</table>\n",
       "</div>"
      ],
      "text/plain": [
       "                             Name       Movie\n",
       "2     Ryan Gosling and Emma Stone  La La Land\n",
       "3  Will Smith and Martin Lawrence    Bad Boys"
      ]
     },
     "execution_count": 25,
     "metadata": {},
     "output_type": "execute_result"
    }
   ],
   "source": [
    "df[df['Name'].apply(contains_and)]"
   ]
  },
  {
   "cell_type": "code",
   "execution_count": null,
   "id": "89f1ea3f-e05f-4162-abf1-be6117d351d6",
   "metadata": {},
   "outputs": [],
   "source": []
  }
 ],
 "metadata": {
  "kernelspec": {
   "display_name": "Python [conda env:base] *",
   "language": "python",
   "name": "conda-base-py"
  },
  "language_info": {
   "codemirror_mode": {
    "name": "ipython",
    "version": 3
   },
   "file_extension": ".py",
   "mimetype": "text/x-python",
   "name": "python",
   "nbconvert_exporter": "python",
   "pygments_lexer": "ipython3",
   "version": "3.12.7"
  }
 },
 "nbformat": 4,
 "nbformat_minor": 5
}
