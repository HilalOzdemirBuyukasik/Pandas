{
 "cells": [
  {
   "cell_type": "markdown",
   "id": "fdf1da45-fc6a-4ed6-a9d8-66929ca90eb9",
   "metadata": {},
   "source": [
    "#### Movie Data Analysis and Recommendation"
   ]
  },
  {
   "cell_type": "markdown",
   "id": "8713f495-12eb-4347-a140-2f224a285b7f",
   "metadata": {},
   "source": [
    "##### Import Libraries & Load Data"
   ]
  },
  {
   "cell_type": "code",
   "execution_count": 37,
   "id": "5d255f27-f182-4ab2-97d6-2ddfbb66bb19",
   "metadata": {},
   "outputs": [
    {
     "data": {
      "text/html": [
       "<div>\n",
       "<style scoped>\n",
       "    .dataframe tbody tr th:only-of-type {\n",
       "        vertical-align: middle;\n",
       "    }\n",
       "\n",
       "    .dataframe tbody tr th {\n",
       "        vertical-align: top;\n",
       "    }\n",
       "\n",
       "    .dataframe thead th {\n",
       "        text-align: right;\n",
       "    }\n",
       "</style>\n",
       "<table border=\"1\" class=\"dataframe\">\n",
       "  <thead>\n",
       "    <tr style=\"text-align: right;\">\n",
       "      <th></th>\n",
       "      <th>movieId</th>\n",
       "      <th>title</th>\n",
       "      <th>genres</th>\n",
       "    </tr>\n",
       "  </thead>\n",
       "  <tbody>\n",
       "    <tr>\n",
       "      <th>0</th>\n",
       "      <td>1</td>\n",
       "      <td>Toy Story (1995)</td>\n",
       "      <td>Adventure|Animation|Children|Comedy|Fantasy</td>\n",
       "    </tr>\n",
       "    <tr>\n",
       "      <th>1</th>\n",
       "      <td>2</td>\n",
       "      <td>Jumanji (1995)</td>\n",
       "      <td>Adventure|Children|Fantasy</td>\n",
       "    </tr>\n",
       "    <tr>\n",
       "      <th>2</th>\n",
       "      <td>3</td>\n",
       "      <td>Grumpier Old Men (1995)</td>\n",
       "      <td>Comedy|Romance</td>\n",
       "    </tr>\n",
       "    <tr>\n",
       "      <th>3</th>\n",
       "      <td>4</td>\n",
       "      <td>Waiting to Exhale (1995)</td>\n",
       "      <td>Comedy|Drama|Romance</td>\n",
       "    </tr>\n",
       "    <tr>\n",
       "      <th>4</th>\n",
       "      <td>5</td>\n",
       "      <td>Father of the Bride Part II (1995)</td>\n",
       "      <td>Comedy</td>\n",
       "    </tr>\n",
       "  </tbody>\n",
       "</table>\n",
       "</div>"
      ],
      "text/plain": [
       "   movieId                               title  \\\n",
       "0        1                    Toy Story (1995)   \n",
       "1        2                      Jumanji (1995)   \n",
       "2        3             Grumpier Old Men (1995)   \n",
       "3        4            Waiting to Exhale (1995)   \n",
       "4        5  Father of the Bride Part II (1995)   \n",
       "\n",
       "                                        genres  \n",
       "0  Adventure|Animation|Children|Comedy|Fantasy  \n",
       "1                   Adventure|Children|Fantasy  \n",
       "2                               Comedy|Romance  \n",
       "3                         Comedy|Drama|Romance  \n",
       "4                                       Comedy  "
      ]
     },
     "execution_count": 37,
     "metadata": {},
     "output_type": "execute_result"
    }
   ],
   "source": [
    "import pandas as pd\n",
    "import numpy as np\n",
    "import matplotlib.pyplot as plt\n",
    "\n",
    "#Load movie metadata\n",
    "movies_df = pd.read_csv('data/movies.csv')\n",
    "movies_df.head()"
   ]
  },
  {
   "cell_type": "markdown",
   "id": "4bad58d2-e8e5-4aaf-aa56-25e0677fa5ee",
   "metadata": {},
   "source": [
    "##### Clean Movie Titles and Extract Year"
   ]
  },
  {
   "cell_type": "code",
   "execution_count": 38,
   "id": "336828d5-8c3e-4c7f-aea5-f0c60cd63b76",
   "metadata": {},
   "outputs": [
    {
     "data": {
      "text/html": [
       "<div>\n",
       "<style scoped>\n",
       "    .dataframe tbody tr th:only-of-type {\n",
       "        vertical-align: middle;\n",
       "    }\n",
       "\n",
       "    .dataframe tbody tr th {\n",
       "        vertical-align: top;\n",
       "    }\n",
       "\n",
       "    .dataframe thead th {\n",
       "        text-align: right;\n",
       "    }\n",
       "</style>\n",
       "<table border=\"1\" class=\"dataframe\">\n",
       "  <thead>\n",
       "    <tr style=\"text-align: right;\">\n",
       "      <th></th>\n",
       "      <th>movieId</th>\n",
       "      <th>title</th>\n",
       "      <th>genres</th>\n",
       "      <th>year</th>\n",
       "    </tr>\n",
       "  </thead>\n",
       "  <tbody>\n",
       "    <tr>\n",
       "      <th>0</th>\n",
       "      <td>1</td>\n",
       "      <td>Toy Story</td>\n",
       "      <td>Adventure|Animation|Children|Comedy|Fantasy</td>\n",
       "      <td>1995</td>\n",
       "    </tr>\n",
       "    <tr>\n",
       "      <th>1</th>\n",
       "      <td>2</td>\n",
       "      <td>Jumanji</td>\n",
       "      <td>Adventure|Children|Fantasy</td>\n",
       "      <td>1995</td>\n",
       "    </tr>\n",
       "    <tr>\n",
       "      <th>2</th>\n",
       "      <td>3</td>\n",
       "      <td>Grumpier Old Men</td>\n",
       "      <td>Comedy|Romance</td>\n",
       "      <td>1995</td>\n",
       "    </tr>\n",
       "    <tr>\n",
       "      <th>3</th>\n",
       "      <td>4</td>\n",
       "      <td>Waiting to Exhale</td>\n",
       "      <td>Comedy|Drama|Romance</td>\n",
       "      <td>1995</td>\n",
       "    </tr>\n",
       "    <tr>\n",
       "      <th>4</th>\n",
       "      <td>5</td>\n",
       "      <td>Father of the Bride Part II</td>\n",
       "      <td>Comedy</td>\n",
       "      <td>1995</td>\n",
       "    </tr>\n",
       "  </tbody>\n",
       "</table>\n",
       "</div>"
      ],
      "text/plain": [
       "   movieId                        title  \\\n",
       "0        1                    Toy Story   \n",
       "1        2                      Jumanji   \n",
       "2        3             Grumpier Old Men   \n",
       "3        4            Waiting to Exhale   \n",
       "4        5  Father of the Bride Part II   \n",
       "\n",
       "                                        genres  year  \n",
       "0  Adventure|Animation|Children|Comedy|Fantasy  1995  \n",
       "1                   Adventure|Children|Fantasy  1995  \n",
       "2                               Comedy|Romance  1995  \n",
       "3                         Comedy|Drama|Romance  1995  \n",
       "4                                       Comedy  1995  "
      ]
     },
     "execution_count": 38,
     "metadata": {},
     "output_type": "execute_result"
    }
   ],
   "source": [
    "#Extract the year from title using Regex\n",
    "movies_df['year'] = movies_df['title'].str.extract(r'\\((\\d{4})\\)', expand=False)\n",
    "\n",
    "#Remove the year from the title\n",
    "movies_df['title']=movies_df['title'].str.replace(r'\\(\\d{4}\\)', '', regex=True)\n",
    "movies_df['title'] = movies_df['title'].str.strip()\n",
    "\n",
    "movies_df.head()"
   ]
  },
  {
   "cell_type": "markdown",
   "id": "4b1be082-6698-40c8-9413-cf5579a84bc0",
   "metadata": {},
   "source": [
    "##### One-Hot Encode Genres"
   ]
  },
  {
   "cell_type": "code",
   "execution_count": 40,
   "id": "cd020655-355b-46ea-919c-d5ea0d8883ef",
   "metadata": {},
   "outputs": [],
   "source": [
    "genre_dummies = movies_df['genres'].str.get_dummies(sep='|')\n",
    "movies_df = pd.concat([movies_df, genre_dummies], axis=1)\n",
    "movies_df"
   ]
  },
  {
   "cell_type": "markdown",
   "id": "ace6bc2c-9761-4810-951e-a532ce98b42e",
   "metadata": {},
   "source": [
    "##### Simulate a New User's Ratings"
   ]
  },
  {
   "cell_type": "code",
   "execution_count": 41,
   "id": "f8929af7-11d6-48f7-b4dc-6bde569997ff",
   "metadata": {},
   "outputs": [
    {
     "data": {
      "text/html": [
       "<div>\n",
       "<style scoped>\n",
       "    .dataframe tbody tr th:only-of-type {\n",
       "        vertical-align: middle;\n",
       "    }\n",
       "\n",
       "    .dataframe tbody tr th {\n",
       "        vertical-align: top;\n",
       "    }\n",
       "\n",
       "    .dataframe thead th {\n",
       "        text-align: right;\n",
       "    }\n",
       "</style>\n",
       "<table border=\"1\" class=\"dataframe\">\n",
       "  <thead>\n",
       "    <tr style=\"text-align: right;\">\n",
       "      <th></th>\n",
       "      <th>title</th>\n",
       "      <th>rating</th>\n",
       "    </tr>\n",
       "  </thead>\n",
       "  <tbody>\n",
       "    <tr>\n",
       "      <th>0</th>\n",
       "      <td>Toy Story</td>\n",
       "      <td>4</td>\n",
       "    </tr>\n",
       "    <tr>\n",
       "      <th>1</th>\n",
       "      <td>Jumanji</td>\n",
       "      <td>5</td>\n",
       "    </tr>\n",
       "    <tr>\n",
       "      <th>2</th>\n",
       "      <td>Father of the Bride Part II</td>\n",
       "      <td>5</td>\n",
       "    </tr>\n",
       "    <tr>\n",
       "      <th>3</th>\n",
       "      <td>Heat</td>\n",
       "      <td>1</td>\n",
       "    </tr>\n",
       "    <tr>\n",
       "      <th>4</th>\n",
       "      <td>Space Jam</td>\n",
       "      <td>5</td>\n",
       "    </tr>\n",
       "  </tbody>\n",
       "</table>\n",
       "</div>"
      ],
      "text/plain": [
       "                         title  rating\n",
       "0                    Toy Story       4\n",
       "1                      Jumanji       5\n",
       "2  Father of the Bride Part II       5\n",
       "3                         Heat       1\n",
       "4                    Space Jam       5"
      ]
     },
     "execution_count": 41,
     "metadata": {},
     "output_type": "execute_result"
    }
   ],
   "source": [
    "user_input_df = pd.DataFrame([\n",
    "    {'title': 'Toy Story', 'rating': 4},\n",
    "    {'title': 'Jumanji', 'rating': 5},\n",
    "    {'title': 'Father of the Bride Part II', 'rating': 5},\n",
    "    {'title': 'Heat', 'rating': 1},\n",
    "    {'title': 'Space Jam', 'rating': 5},\n",
    "])\n",
    "\n",
    "user_input_df"
   ]
  },
  {
   "cell_type": "markdown",
   "id": "30a66efc-4371-4247-aa30-cf423228204d",
   "metadata": {},
   "source": [
    "##### Merge with Main Movies Data"
   ]
  },
  {
   "cell_type": "code",
   "execution_count": 53,
   "id": "ab8c56dc-8e29-4318-8843-c641a3ca991b",
   "metadata": {
    "scrolled": true
   },
   "outputs": [],
   "source": [
    "import re\n",
    "\n",
    "# Title cleaning\n",
    "def clean_title(title):\n",
    "    return re.sub(r\"\\s*\\(\\d{4}\\)\", \"\", title).lower().strip()\n",
    "\n",
    "user_input_df['clean_title'] = user_input_df['title'].apply(clean_title)\n",
    "movies_df['clean_title'] = movies_df['title'].apply(clean_title)\n",
    "\n",
    "# Merge based on clean title\n",
    "merged_df = pd.merge(user_input_df, movies_df, on='clean_title')\n",
    "merged_df = merged_df.drop_duplicates(subset=['movieId'])\n",
    "\n",
    "# Drop unnecessary columns\n",
    "merged_df.drop(columns=['genres', 'year'], inplace=True, errors='ignore')\n",
    "\n",
    "# Merge again to get full genre matrix\n",
    "user_favorite_genres = pd.merge(merged_df, movies_df, on='movieId')\n"
   ]
  },
  {
   "cell_type": "markdown",
   "id": "2cb8ae9e-dd29-4932-82a1-9037e3119487",
   "metadata": {},
   "source": [
    "##### Analyze Favorite Genres of the User"
   ]
  },
  {
   "cell_type": "code",
   "execution_count": 31,
   "id": "55948064-4087-4486-a4c8-b2f3621e6ea7",
   "metadata": {},
   "outputs": [
    {
     "name": "stdout",
     "output_type": "stream",
     "text": [
      "Index(['title_x', 'rating', 'clean_title_x', 'movieId', 'title_y',\n",
      "       'Adventure_x', 'Animation_x', 'Children_x', 'Comedy_x', 'Fantasy_x',\n",
      "       ...\n",
      "       'Film-Noir_y', 'Horror_y', 'IMAX_y', 'Musical_y', 'Mystery_y',\n",
      "       'Romance_y', 'Sci-Fi_y', 'Thriller_y', 'War_y', 'Western_y'],\n",
      "      dtype='object', length=206)\n"
     ]
    }
   ],
   "source": [
    "print(user_favorite_genres.columns)"
   ]
  },
  {
   "cell_type": "code",
   "execution_count": 56,
   "id": "808ba122-340a-4e30-a1f0-bafefb6f4a7f",
   "metadata": {},
   "outputs": [],
   "source": [
    "# Drop unnecessary columns\n",
    "cols_to_drop = ['movieId', 'title_x', 'title_y', 'title', 'rating', 'genres', 'year', 'clean_title_x', 'clean_title_y']\n",
    "user_favorite_genres.drop(\n",
    "    columns=[col for col in cols_to_drop if col in user_favorite_genres.columns],\n",
    "    inplace=True\n",
    ")"
   ]
  },
  {
   "cell_type": "markdown",
   "id": "919dabdb-781e-44c4-b980-6987686c03fc",
   "metadata": {},
   "source": [
    "##### Create Movie Feature Matrix"
   ]
  },
  {
   "cell_type": "code",
   "execution_count": 58,
   "id": "b88fc68a-2e1a-4cb4-8585-8b1924e0966c",
   "metadata": {},
   "outputs": [],
   "source": [
    "movie_matrix = movies_df.drop(columns=['title', 'genres', 'year'])\n",
    "movie_matrix.set_index('movieId', inplace=True)\n",
    "movie_matrix.head()"
   ]
  },
  {
   "cell_type": "markdown",
   "id": "22e7860e-5630-466d-a8e3-6b0cd0a0fe21",
   "metadata": {},
   "source": [
    "##### Collaborative Filtering: Pearson Correlation"
   ]
  },
  {
   "cell_type": "code",
   "execution_count": 59,
   "id": "c251c439-1f8e-49c8-a15e-9c40482f9729",
   "metadata": {},
   "outputs": [],
   "source": [
    "# Ratings dataset\n",
    "ratings_df = pd.read_csv('data/ratings.csv')\n",
    "\n",
    "# Merge with user-rated movies\n",
    "user_subset_df = pd.merge(ratings_df, merged_df,  on='movieId')\n",
    "user_subset_df.drop(columns=['title', 'genres', 'year', 'rating_y'], inplace=True, errors='ignore')\n",
    "user_subset_df.rename(columns={'rating_x': 'rating'}, inplace=True)"
   ]
  },
  {
   "cell_type": "markdown",
   "id": "2ae89737-ba91-47d1-8b94-153e3e601adc",
   "metadata": {},
   "source": [
    "##### Pearson Correlation Calculation"
   ]
  },
  {
   "cell_type": "code",
   "execution_count": null,
   "id": "dacd557a-154b-4fef-be0c-e07879ab4404",
   "metadata": {},
   "outputs": [],
   "source": [
    "from math import sqrt\n",
    "\n",
    "# Pearson correlation dictionary\n",
    "pearson_correlation_dict = {}\n",
    "\n",
    "# Group ratings by user\n",
    "sorted_user_subset_group = user_subset_df.groupby('userId')\n",
    "\n",
    "# First, get the movieId-rating info for the target user\n",
    "target_user_ratings = merged_df[['movieId', 'rating']].sort_values('movieId')\n",
    "\n",
    "for userId, group in sorted_user_subset_group:\n",
    "    group = group[['movieId', 'rating']].sort_values('movieId')\n",
    "\n",
    "    # Get the common movies\n",
    "    common_movies = set(target_user_ratings['movieId']).intersection(set(group['movieId']))\n",
    "    \n",
    "    if len(common_movies) == 0:\n",
    "        pearson_correlation_dict[userId] = 0\n",
    "        continue\n",
    "\n",
    "    # Filter only common movies\n",
    "    target_common = target_user_ratings[target_user_ratings['movieId'].isin(common_movies)].sort_values('movieId')\n",
    "    group_common = group[group['movieId'].isin(common_movies)].sort_values('movieId')\n",
    "\n",
    "    # Get the ratings as lists\n",
    "    target_ratings = target_common['rating'].tolist()\n",
    "    group_ratings = group_common['rating'].tolist()\n",
    "\n",
    "    n = len(target_ratings)\n",
    "\n",
    "    # Calculate Pearson correlation\n",
    "    Sxx = sum([i ** 2 for i in target_ratings]) - pow(sum(target_ratings), 2) / float(n)\n",
    "    Syy = sum([i ** 2 for i in group_ratings]) - pow(sum(group_ratings), 2) / float(n)\n",
    "    Sxy = sum(i * j for i, j in zip(target_ratings, group_ratings)) - sum(target_ratings) * sum(group_ratings) / float(n)\n",
    "\n",
    "    if Sxx != 0 and Syy != 0:\n",
    "        pearson_correlation_dict[userId] = Sxy / sqrt(Sxx * Syy)\n",
    "    else:\n",
    "        pearson_correlation_dict[userId] = 0\n",
    "\n",
    "# View the top 50 users\n",
    "dict(list(pearson_correlation_dict.items())[:50])"
   ]
  },
  {
   "cell_type": "code",
   "execution_count": null,
   "id": "0fbce770-afe5-4e79-9943-3173d7588c38",
   "metadata": {},
   "outputs": [],
   "source": []
  }
 ],
 "metadata": {
  "kernelspec": {
   "display_name": "Python [conda env:base] *",
   "language": "python",
   "name": "conda-base-py"
  },
  "language_info": {
   "codemirror_mode": {
    "name": "ipython",
    "version": 3
   },
   "file_extension": ".py",
   "mimetype": "text/x-python",
   "name": "python",
   "nbconvert_exporter": "python",
   "pygments_lexer": "ipython3",
   "version": "3.12.7"
  }
 },
 "nbformat": 4,
 "nbformat_minor": 5
}
